{
  "nbformat": 4,
  "nbformat_minor": 0,
  "metadata": {
    "colab": {
      "name": "Housing.ipynb",
      "provenance": [],
      "collapsed_sections": [],
      "authorship_tag": "ABX9TyNmPV+UCkOAIpL9NGFkKnrt",
      "include_colab_link": true
    },
    "kernelspec": {
      "name": "python3",
      "display_name": "Python 3"
    },
    "accelerator": "GPU"
  },
  "cells": [
    {
      "cell_type": "markdown",
      "metadata": {
        "id": "view-in-github",
        "colab_type": "text"
      },
      "source": [
        "<a href=\"https://colab.research.google.com/github/ojeifoissy/end-end-machine-learning-project/blob/master/Housing.ipynb\" target=\"_parent\"><img src=\"https://colab.research.google.com/assets/colab-badge.svg\" alt=\"Open In Colab\"/></a>"
      ]
    },
    {
      "cell_type": "code",
      "metadata": {
        "id": "lEsaeMTiskOA",
        "colab_type": "code",
        "colab": {}
      },
      "source": [
        "import os\n",
        "import tarfile\n",
        "from six.moves import urllib"
      ],
      "execution_count": 0,
      "outputs": []
    },
    {
      "cell_type": "code",
      "metadata": {
        "id": "eovOPX3Gszkj",
        "colab_type": "code",
        "colab": {}
      },
      "source": [
        "DOWNLOAD_ROOT = \"https://raw.githubusercontent.com/ageron/handson-ml/master/\"\n",
        "HOUSING_PATH = \"datasets/housing\"\n",
        "HOUSING_URL = DOWNLOAD_ROOT + HOUSING_PATH + \"/housing.tgz\"\n",
        "def fetch_housing_data(housing_url=HOUSING_URL, housing_path=HOUSING_PATH):\n",
        "    if not os.path.isdir(housing_path):\n",
        "        os.makedirs(housing_path)\n",
        "    tgz_path = os.path.join(housing_path, \"housing.tgz\")\n",
        "    urllib.request.urlretrieve(housing_url, tgz_path)\n",
        "    housing_tgz = tarfile.open(tgz_path)\n",
        "    housing_tgz.extractall(path=housing_path)\n",
        "    housing_tgz.close()"
      ],
      "execution_count": 0,
      "outputs": []
    },
    {
      "cell_type": "code",
      "metadata": {
        "id": "aG5Uje3ltAhT",
        "colab_type": "code",
        "colab": {}
      },
      "source": [
        "import pandas as pd\n",
        "def load_housing_data(housing_path=HOUSING_PATH):\n",
        "    fetch_housing_data()\n",
        "    csv_path = os.path.join(housing_path, \"housing.csv\")\n",
        "    return pd.read_csv(csv_path)"
      ],
      "execution_count": 0,
      "outputs": []
    },
    {
      "cell_type": "code",
      "metadata": {
        "id": "Ear4a0IatIQM",
        "colab_type": "code",
        "outputId": "92525ae9-c67f-4df4-bd44-763384009a24",
        "colab": {
          "base_uri": "https://localhost:8080/",
          "height": 204
        }
      },
      "source": [
        "housing = load_housing_data()\n",
        "housing.head()"
      ],
      "execution_count": 6,
      "outputs": [
        {
          "output_type": "execute_result",
          "data": {
            "text/html": [
              "<div>\n",
              "<style scoped>\n",
              "    .dataframe tbody tr th:only-of-type {\n",
              "        vertical-align: middle;\n",
              "    }\n",
              "\n",
              "    .dataframe tbody tr th {\n",
              "        vertical-align: top;\n",
              "    }\n",
              "\n",
              "    .dataframe thead th {\n",
              "        text-align: right;\n",
              "    }\n",
              "</style>\n",
              "<table border=\"1\" class=\"dataframe\">\n",
              "  <thead>\n",
              "    <tr style=\"text-align: right;\">\n",
              "      <th></th>\n",
              "      <th>longitude</th>\n",
              "      <th>latitude</th>\n",
              "      <th>housing_median_age</th>\n",
              "      <th>total_rooms</th>\n",
              "      <th>total_bedrooms</th>\n",
              "      <th>population</th>\n",
              "      <th>households</th>\n",
              "      <th>median_income</th>\n",
              "      <th>median_house_value</th>\n",
              "      <th>ocean_proximity</th>\n",
              "    </tr>\n",
              "  </thead>\n",
              "  <tbody>\n",
              "    <tr>\n",
              "      <th>0</th>\n",
              "      <td>-122.23</td>\n",
              "      <td>37.88</td>\n",
              "      <td>41.0</td>\n",
              "      <td>880.0</td>\n",
              "      <td>129.0</td>\n",
              "      <td>322.0</td>\n",
              "      <td>126.0</td>\n",
              "      <td>8.3252</td>\n",
              "      <td>452600.0</td>\n",
              "      <td>NEAR BAY</td>\n",
              "    </tr>\n",
              "    <tr>\n",
              "      <th>1</th>\n",
              "      <td>-122.22</td>\n",
              "      <td>37.86</td>\n",
              "      <td>21.0</td>\n",
              "      <td>7099.0</td>\n",
              "      <td>1106.0</td>\n",
              "      <td>2401.0</td>\n",
              "      <td>1138.0</td>\n",
              "      <td>8.3014</td>\n",
              "      <td>358500.0</td>\n",
              "      <td>NEAR BAY</td>\n",
              "    </tr>\n",
              "    <tr>\n",
              "      <th>2</th>\n",
              "      <td>-122.24</td>\n",
              "      <td>37.85</td>\n",
              "      <td>52.0</td>\n",
              "      <td>1467.0</td>\n",
              "      <td>190.0</td>\n",
              "      <td>496.0</td>\n",
              "      <td>177.0</td>\n",
              "      <td>7.2574</td>\n",
              "      <td>352100.0</td>\n",
              "      <td>NEAR BAY</td>\n",
              "    </tr>\n",
              "    <tr>\n",
              "      <th>3</th>\n",
              "      <td>-122.25</td>\n",
              "      <td>37.85</td>\n",
              "      <td>52.0</td>\n",
              "      <td>1274.0</td>\n",
              "      <td>235.0</td>\n",
              "      <td>558.0</td>\n",
              "      <td>219.0</td>\n",
              "      <td>5.6431</td>\n",
              "      <td>341300.0</td>\n",
              "      <td>NEAR BAY</td>\n",
              "    </tr>\n",
              "    <tr>\n",
              "      <th>4</th>\n",
              "      <td>-122.25</td>\n",
              "      <td>37.85</td>\n",
              "      <td>52.0</td>\n",
              "      <td>1627.0</td>\n",
              "      <td>280.0</td>\n",
              "      <td>565.0</td>\n",
              "      <td>259.0</td>\n",
              "      <td>3.8462</td>\n",
              "      <td>342200.0</td>\n",
              "      <td>NEAR BAY</td>\n",
              "    </tr>\n",
              "  </tbody>\n",
              "</table>\n",
              "</div>"
            ],
            "text/plain": [
              "   longitude  latitude  ...  median_house_value  ocean_proximity\n",
              "0    -122.23     37.88  ...            452600.0         NEAR BAY\n",
              "1    -122.22     37.86  ...            358500.0         NEAR BAY\n",
              "2    -122.24     37.85  ...            352100.0         NEAR BAY\n",
              "3    -122.25     37.85  ...            341300.0         NEAR BAY\n",
              "4    -122.25     37.85  ...            342200.0         NEAR BAY\n",
              "\n",
              "[5 rows x 10 columns]"
            ]
          },
          "metadata": {
            "tags": []
          },
          "execution_count": 6
        }
      ]
    },
    {
      "cell_type": "code",
      "metadata": {
        "id": "aNHnEe2VtPpV",
        "colab_type": "code",
        "outputId": "e6ea3bd7-6399-4991-da1f-e04697945500",
        "colab": {
          "base_uri": "https://localhost:8080/",
          "height": 119
        }
      },
      "source": [
        "housing[\"ocean_proximity\"].value_counts()"
      ],
      "execution_count": 7,
      "outputs": [
        {
          "output_type": "execute_result",
          "data": {
            "text/plain": [
              "<1H OCEAN     9136\n",
              "INLAND        6551\n",
              "NEAR OCEAN    2658\n",
              "NEAR BAY      2290\n",
              "ISLAND           5\n",
              "Name: ocean_proximity, dtype: int64"
            ]
          },
          "metadata": {
            "tags": []
          },
          "execution_count": 7
        }
      ]
    },
    {
      "cell_type": "code",
      "metadata": {
        "id": "BBYEVxBTwFyf",
        "colab_type": "code",
        "outputId": "855db54b-67fa-49ae-fbd2-43b1f8cbb497",
        "colab": {
          "base_uri": "https://localhost:8080/",
          "height": 879
        }
      },
      "source": [
        "%matplotlib inline \n",
        "import matplotlib.pyplot as plt\n",
        "housing.hist(bins=50, figsize=(20,15))\n",
        "plt.show()\n"
      ],
      "execution_count": 8,
      "outputs": [
        {
          "output_type": "display_data",
          "data": {
            "image/png": "[encoded data removed]",
            "text/plain": [
              "<Figure size 1440x1080 with 9 Axes>"
            ]
          },
          "metadata": {
            "tags": []
          }
        }
      ]
    },
    {
      "cell_type": "code",
      "metadata": {
        "id": "qIT3VtJEwJlY",
        "colab_type": "code",
        "colab": {}
      },
      "source": [
        "import numpy as np\n",
        "def split_train_test(data, test_ratio):\n",
        "  shuffled_indices = np.random.permutation(len(data))\n",
        "  test_set_size = int(len(data) * test_ratio)\n",
        "  test_indices = shuffled_indices[:test_set_size]\n",
        "  train_indices = shuffled_indices[test_set_size:]\n",
        "  return data.iloc[train_indices], data.iloc[test_indices]\n"
      ],
      "execution_count": 0,
      "outputs": []
    },
    {
      "cell_type": "code",
      "metadata": {
        "id": "Vlw1AQ3-y6Gt",
        "colab_type": "code",
        "outputId": "d6ba2c78-9e0e-4f12-d33b-ac01a5eecbdf",
        "colab": {
          "base_uri": "https://localhost:8080/",
          "height": 34
        }
      },
      "source": [
        "train_set, test_set = split_train_test(housing, 0.2)\n",
        "print(len(train_set), \"train +\", len(test_set), \"test\")\n"
      ],
      "execution_count": 10,
      "outputs": [
        {
          "output_type": "stream",
          "text": [
            "16512 train + 4128 test\n"
          ],
          "name": "stdout"
        }
      ]
    },
    {
      "cell_type": "code",
      "metadata": {
        "id": "fLz1G2CzzCDI",
        "colab_type": "code",
        "colab": {}
      },
      "source": [
        "from sklearn.model_selection import train_test_split\n",
        "train_set, test_set = train_test_split(housing, test_size=0.2, random_state=42)"
      ],
      "execution_count": 0,
      "outputs": []
    },
    {
      "cell_type": "code",
      "metadata": {
        "id": "Q5IBGPNpz4gc",
        "colab_type": "code",
        "colab": {}
      },
      "source": [
        "housing[\"income_cat\"] = np.ceil(housing[\"median_income\"] / 1.5)\n",
        "housing[\"income_cat\"].where(housing[\"income_cat\"] < 5, 5.0, inplace=True)\n"
      ],
      "execution_count": 0,
      "outputs": []
    },
    {
      "cell_type": "code",
      "metadata": {
        "id": "nvugqg4a0dRq",
        "colab_type": "code",
        "colab": {}
      },
      "source": [
        "from sklearn.model_selection import StratifiedShuffleSplit\n",
        "split = StratifiedShuffleSplit(n_splits=1, test_size=0.2, random_state=42)\n",
        "for train_index, test_index in split.split(housing, housing[\"income_cat\"]):\n",
        "  strat_train_set = housing.loc[train_index]\n",
        "  strat_test_set = housing.loc[test_index]"
      ],
      "execution_count": 0,
      "outputs": []
    },
    {
      "cell_type": "code",
      "metadata": {
        "id": "_uzXQTHQ0vgS",
        "colab_type": "code",
        "outputId": "ea508852-1b48-4990-943c-a49a44cfc3cc",
        "colab": {
          "base_uri": "https://localhost:8080/",
          "height": 119
        }
      },
      "source": [
        " housing[\"income_cat\"].value_counts() / len(housing)"
      ],
      "execution_count": 14,
      "outputs": [
        {
          "output_type": "execute_result",
          "data": {
            "text/plain": [
              "3.0    0.350581\n",
              "2.0    0.318847\n",
              "4.0    0.176308\n",
              "5.0    0.114438\n",
              "1.0    0.039826\n",
              "Name: income_cat, dtype: float64"
            ]
          },
          "metadata": {
            "tags": []
          },
          "execution_count": 14
        }
      ]
    },
    {
      "cell_type": "code",
      "metadata": {
        "id": "VnVgHgts02uR",
        "colab_type": "code",
        "colab": {}
      },
      "source": [
        " for set in (strat_train_set, strat_test_set):\n",
        "  set.drop([\"income_cat\"], axis=1, inplace=True)"
      ],
      "execution_count": 0,
      "outputs": []
    },
    {
      "cell_type": "code",
      "metadata": {
        "id": "35P6q1u51ZVl",
        "colab_type": "code",
        "outputId": "ce7eec9e-563e-43bc-dee8-8e159b2ab8f6",
        "colab": {
          "base_uri": "https://localhost:8080/",
          "height": 296
        }
      },
      "source": [
        "housing = strat_train_set.copy()\n",
        "housing.plot(kind=\"scatter\", x=\"longitude\", y=\"latitude\")"
      ],
      "execution_count": 16,
      "outputs": [
        {
          "output_type": "execute_result",
          "data": {
            "text/plain": [
              "<matplotlib.axes._subplots.AxesSubplot at 0x7fd71465c630>"
            ]
          },
          "metadata": {
            "tags": []
          },
          "execution_count": 16
        },
        {
          "output_type": "display_data",
          "data": {
            "image/png": "[encoded data removed]",
            "text/plain": [
              "<Figure size 432x288 with 1 Axes>"
            ]
          },
          "metadata": {
            "tags": []
          }
        }
      ]
    },
    {
      "cell_type": "code",
      "metadata": {
        "id": "Zq1z_5au19Tu",
        "colab_type": "code",
        "outputId": "91b1ec0d-ed41-4246-9da1-b11c0a1da8d0",
        "colab": {
          "base_uri": "https://localhost:8080/",
          "height": 296
        }
      },
      "source": [
        "housing.plot(kind=\"scatter\", x=\"longitude\", y=\"latitude\", alpha=0.1)"
      ],
      "execution_count": 17,
      "outputs": [
        {
          "output_type": "execute_result",
          "data": {
            "text/plain": [
              "<matplotlib.axes._subplots.AxesSubplot at 0x7fd714e50518>"
            ]
          },
          "metadata": {
            "tags": []
          },
          "execution_count": 17
        },
        {
          "output_type": "display_data",
          "data": {
            "image/png": "[encoded data removed]",
            "text/plain": [
              "<Figure size 432x288 with 1 Axes>"
            ]
          },
          "metadata": {
            "tags": []
          }
        }
      ]
    },
    {
      "cell_type": "code",
      "metadata": {
        "id": "P_iY5WHa2Jnt",
        "colab_type": "code",
        "outputId": "a120a653-71e9-47f4-dcdf-6fd678f32680",
        "colab": {
          "base_uri": "https://localhost:8080/",
          "height": 273
        }
      },
      "source": [
        "housing.plot(kind=\"scatter\", x=\"longitude\", y=\"latitude\", alpha=0.4,\n",
        " s=housing[\"population\"]/100, label=\"population\",\n",
        " c=\"median_house_value\", cmap=plt.get_cmap(\"jet\"), colorbar=True,\n",
        ")\n",
        "plt.legend()"
      ],
      "execution_count": 18,
      "outputs": [
        {
          "output_type": "execute_result",
          "data": {
            "text/plain": [
              "<matplotlib.legend.Legend at 0x7fd714ca7080>"
            ]
          },
          "metadata": {
            "tags": []
          },
          "execution_count": 18
        },
        {
          "output_type": "display_data",
          "data": {
            "image/png": "[encoded data removed]",
            "text/plain": [
              "<Figure size 432x288 with 2 Axes>"
            ]
          },
          "metadata": {
            "tags": []
          }
        }
      ]
    },
    {
      "cell_type": "code",
      "metadata": {
        "id": "mhdPo-XX2mpN",
        "colab_type": "code",
        "colab": {}
      },
      "source": [
        "corr_matrix = housing.corr()"
      ],
      "execution_count": 0,
      "outputs": []
    },
    {
      "cell_type": "code",
      "metadata": {
        "id": "yPZEtxts3MCx",
        "colab_type": "code",
        "outputId": "292542e0-f117-42f5-d5e6-0619b46718d2",
        "colab": {
          "base_uri": "https://localhost:8080/",
          "height": 187
        }
      },
      "source": [
        " corr_matrix[\"median_house_value\"].sort_values(ascending=False)"
      ],
      "execution_count": 20,
      "outputs": [
        {
          "output_type": "execute_result",
          "data": {
            "text/plain": [
              "median_house_value    1.000000\n",
              "median_income         0.687160\n",
              "total_rooms           0.135097\n",
              "housing_median_age    0.114110\n",
              "households            0.064506\n",
              "total_bedrooms        0.047689\n",
              "population           -0.026920\n",
              "longitude            -0.047432\n",
              "latitude             -0.142724\n",
              "Name: median_house_value, dtype: float64"
            ]
          },
          "metadata": {
            "tags": []
          },
          "execution_count": 20
        }
      ]
    },
    {
      "cell_type": "code",
      "metadata": {
        "id": "t2NbTHli3VZn",
        "colab_type": "code",
        "outputId": "0bd5e152-83de-429d-828b-7844e9123242",
        "colab": {
          "base_uri": "https://localhost:8080/",
          "height": 297
        }
      },
      "source": [
        "housing.plot(kind=\"scatter\", x=\"median_income\", y=\"median_house_value\",\n",
        " alpha=0.1)\n"
      ],
      "execution_count": 21,
      "outputs": [
        {
          "output_type": "execute_result",
          "data": {
            "text/plain": [
              "<matplotlib.axes._subplots.AxesSubplot at 0x7fd7146ea898>"
            ]
          },
          "metadata": {
            "tags": []
          },
          "execution_count": 21
        },
        {
          "output_type": "display_data",
          "data": {
            "image/png": "[encoded data removed]",
            "text/plain": [
              "<Figure size 432x288 with 1 Axes>"
            ]
          },
          "metadata": {
            "tags": []
          }
        }
      ]
    },
    {
      "cell_type": "code",
      "metadata": {
        "id": "-H63B8Jg309G",
        "colab_type": "code",
        "colab": {}
      },
      "source": [
        "housing[\"rooms_per_household\"] = housing[\"total_rooms\"]/housing[\"households\"]\n",
        "housing[\"bedrooms_per_room\"] = housing[\"total_bedrooms\"]/housing[\"total_rooms\"]\n",
        "housing[\"population_per_household\"]=housing[\"population\"]/housing[\"households\"]"
      ],
      "execution_count": 0,
      "outputs": []
    },
    {
      "cell_type": "code",
      "metadata": {
        "id": "dSn6p75q42Ti",
        "colab_type": "code",
        "colab": {}
      },
      "source": [
        "housing = strat_train_set.drop(\"median_house_value\", axis=1)\n",
        "housing_labels = strat_train_set[\"median_house_value\"].copy()"
      ],
      "execution_count": 0,
      "outputs": []
    },
    {
      "cell_type": "code",
      "metadata": {
        "id": "-Ix-5pq25sg5",
        "colab_type": "code",
        "colab": {}
      },
      "source": [
        "from sklearn.impute import SimpleImputer\n",
        "imputer = SimpleImputer(strategy=\"median\")"
      ],
      "execution_count": 0,
      "outputs": []
    },
    {
      "cell_type": "code",
      "metadata": {
        "id": "eyncDHQBtR9i",
        "colab_type": "code",
        "outputId": "b5c9793e-3d72-4202-f612-3157c04e2dbf",
        "colab": {
          "base_uri": "https://localhost:8080/",
          "height": 51
        }
      },
      "source": [
        "housing_num = housing.drop('ocean_proximity', axis =1)\n",
        "imputer.fit(housing_num)"
      ],
      "execution_count": 25,
      "outputs": [
        {
          "output_type": "execute_result",
          "data": {
            "text/plain": [
              "SimpleImputer(add_indicator=False, copy=True, fill_value=None,\n",
              "              missing_values=nan, strategy='median', verbose=0)"
            ]
          },
          "metadata": {
            "tags": []
          },
          "execution_count": 25
        }
      ]
    },
    {
      "cell_type": "code",
      "metadata": {
        "id": "PBrYwrRMvKew",
        "colab_type": "code",
        "outputId": "bfb8afa4-10b7-4474-f312-3d5cc64bfa58",
        "colab": {
          "base_uri": "https://localhost:8080/",
          "height": 51
        }
      },
      "source": [
        " imputer.statistics_\n",
        " housing_num.median().values\n",
        "\n"
      ],
      "execution_count": 26,
      "outputs": [
        {
          "output_type": "execute_result",
          "data": {
            "text/plain": [
              "array([-118.51  ,   34.26  ,   29.    , 2119.5   ,  433.    , 1164.    ,\n",
              "        408.    ,    3.5409])"
            ]
          },
          "metadata": {
            "tags": []
          },
          "execution_count": 26
        }
      ]
    },
    {
      "cell_type": "code",
      "metadata": {
        "id": "x4g_yPTjvhkG",
        "colab_type": "code",
        "colab": {}
      },
      "source": [
        "X = imputer.transform(housing_num)\n",
        "housing_tr = pd.DataFrame(X, columns=housing_num.columns)"
      ],
      "execution_count": 0,
      "outputs": []
    },
    {
      "cell_type": "code",
      "metadata": {
        "id": "_iMsS4vvwQEt",
        "colab_type": "code",
        "colab": {}
      },
      "source": [
        "from sklearn.preprocessing import LabelEncoder\n",
        "le = LabelEncoder()\n",
        "housing_cat = housing['ocean_proximity']\n",
        "housing_cat_encoded = le.fit_transform(housing_cat)\n"
      ],
      "execution_count": 0,
      "outputs": []
    },
    {
      "cell_type": "code",
      "metadata": {
        "id": "PaC9X0lOzSBW",
        "colab_type": "code",
        "outputId": "92e362fb-1c08-40bc-e837-8cd1c448ad84",
        "colab": {
          "base_uri": "https://localhost:8080/",
          "height": 34
        }
      },
      "source": [
        "housing_cat_encoded "
      ],
      "execution_count": 29,
      "outputs": [
        {
          "output_type": "execute_result",
          "data": {
            "text/plain": [
              "array([0, 0, 4, ..., 1, 0, 3])"
            ]
          },
          "metadata": {
            "tags": []
          },
          "execution_count": 29
        }
      ]
    },
    {
      "cell_type": "code",
      "metadata": {
        "id": "44kJSX5i4oov",
        "colab_type": "code",
        "outputId": "ea23f65f-79de-4508-aec7-53615eb2bc7c",
        "colab": {
          "base_uri": "https://localhost:8080/",
          "height": 51
        }
      },
      "source": [
        "from sklearn.preprocessing import OneHotEncoder\n",
        "encoder = OneHotEncoder()\n",
        "housing_cat_1hot = encoder.fit_transform(housing_cat_encoded.reshape(-1,1))\n",
        "housing_cat_1hot\n"
      ],
      "execution_count": 30,
      "outputs": [
        {
          "output_type": "execute_result",
          "data": {
            "text/plain": [
              "<16512x5 sparse matrix of type '<class 'numpy.float64'>'\n",
              "\twith 16512 stored elements in Compressed Sparse Row format>"
            ]
          },
          "metadata": {
            "tags": []
          },
          "execution_count": 30
        }
      ]
    },
    {
      "cell_type": "code",
      "metadata": {
        "id": "ThTP1t6f43Op",
        "colab_type": "code",
        "outputId": "f083a80c-cafa-444d-b567-9bf0cc8bd91a",
        "colab": {
          "base_uri": "https://localhost:8080/",
          "height": 136
        }
      },
      "source": [
        " housing_cat_1hot.toarray()"
      ],
      "execution_count": 31,
      "outputs": [
        {
          "output_type": "execute_result",
          "data": {
            "text/plain": [
              "array([[1., 0., 0., 0., 0.],\n",
              "       [1., 0., 0., 0., 0.],\n",
              "       [0., 0., 0., 0., 1.],\n",
              "       ...,\n",
              "       [0., 1., 0., 0., 0.],\n",
              "       [1., 0., 0., 0., 0.],\n",
              "       [0., 0., 0., 1., 0.]])"
            ]
          },
          "metadata": {
            "tags": []
          },
          "execution_count": 31
        }
      ]
    },
    {
      "cell_type": "code",
      "metadata": {
        "id": "QSmnWUSu51tb",
        "colab_type": "code",
        "outputId": "47d8c406-7a3d-4408-992a-47ed040a557f",
        "colab": {
          "base_uri": "https://localhost:8080/",
          "height": 136
        }
      },
      "source": [
        "from sklearn.preprocessing import LabelBinarizer\n",
        "encoder = LabelBinarizer()\n",
        "housing_cat_1hot = encoder.fit_transform(housing_cat)\n",
        "housing_cat_1hot\n"
      ],
      "execution_count": 32,
      "outputs": [
        {
          "output_type": "execute_result",
          "data": {
            "text/plain": [
              "array([[1, 0, 0, 0, 0],\n",
              "       [1, 0, 0, 0, 0],\n",
              "       [0, 0, 0, 0, 1],\n",
              "       ...,\n",
              "       [0, 1, 0, 0, 0],\n",
              "       [1, 0, 0, 0, 0],\n",
              "       [0, 0, 0, 1, 0]])"
            ]
          },
          "metadata": {
            "tags": []
          },
          "execution_count": 32
        }
      ]
    },
    {
      "cell_type": "code",
      "metadata": {
        "id": "OdDK3izG6E07",
        "colab_type": "code",
        "colab": {}
      },
      "source": [
        "from sklearn.base import BaseEstimator, TransformerMixin\n",
        "rooms_ix, bedrooms_ix, population_ix, household_ix = 3, 4, 5, 6\n",
        "class CombinedAttributesAdder(BaseEstimator, TransformerMixin):\n",
        "    def __init__(self, add_bedrooms_per_room = True): # no *args or **kargs\n",
        "      self.add_bedrooms_per_room = add_bedrooms_per_room\n",
        "    def fit(self, X, y=None):\n",
        "      return self # nothing else to do\n",
        "    def transform(self, X, y=None):\n",
        "      rooms_per_household = X[:, rooms_ix] / X[:, household_ix]\n",
        "      population_per_household = X[:, population_ix] / X[:, household_ix]\n",
        "      if self.add_bedrooms_per_room:\n",
        "        bedrooms_per_room = X[:, bedrooms_ix] / X[:, rooms_ix]\n",
        "        return np.c_[X, rooms_per_household, population_per_household,\n",
        " bedrooms_per_room]\n",
        "      else:\n",
        "        return np.c_[X, rooms_per_household, population_per_household]\n",
        "\n",
        "attr_adder = CombinedAttributesAdder(add_bedrooms_per_room=False)\n",
        "housing_extra_attribs = attr_adder.transform(housing.values)\n"
      ],
      "execution_count": 0,
      "outputs": []
    },
    {
      "cell_type": "code",
      "metadata": {
        "id": "vb1kl82b7Ayn",
        "colab_type": "code",
        "colab": {}
      },
      "source": [
        "from sklearn.pipeline import Pipeline\n",
        "from sklearn.preprocessing import StandardScaler\n",
        "num_pipeline = Pipeline([\n",
        " ('imputer', SimpleImputer(strategy=\"median\")),\n",
        " ('attribs_adder', CombinedAttributesAdder()),\n",
        " ('std_scaler', StandardScaler()),\n",
        " ])\n",
        "housing_num_tr = num_pipeline.fit_transform(housing_num)"
      ],
      "execution_count": 0,
      "outputs": []
    },
    {
      "cell_type": "code",
      "metadata": {
        "id": "ErHi9PeeZAfw",
        "colab_type": "code",
        "colab": {}
      },
      "source": [
        "from sklearn.pipeline import FeatureUnion\n",
        "from sklearn.base import BaseEstimator, TransformerMixin\n",
        "from sklearn.utils import check_array\n",
        "from sklearn.preprocessing import LabelEncoder\n",
        "from scipy import sparse\n",
        "\n",
        "class DataFrameSelector(BaseEstimator, TransformerMixin):\n",
        "  def __init__(self, attribute_names):\n",
        "    self.attribute_names = attribute_names\n",
        "  def fit(self, X, y=None):\n",
        "    return self\n",
        "  def transform(self, X):\n",
        "    return X[self.attribute_names].values\n",
        "\n",
        "\n",
        "\n",
        "class CategoricalEncoder(BaseEstimator, TransformerMixin):\n",
        "    def __init__(self, encoding='onehot', categories='auto', dtype=np.float64,\n",
        "                 handle_unknown='error'):\n",
        "        self.encoding = encoding\n",
        "        self.categories = categories\n",
        "        self.dtype = dtype\n",
        "        self.handle_unknown = handle_unknown\n",
        "\n",
        "    def fit(self, X, y=None):\n",
        "        \"\"\"Fit the CategoricalEncoder to X.\n",
        "        Parameters\n",
        "        ----------\n",
        "        X : array-like, shape [n_samples, n_feature]\n",
        "            The data to determine the categories of each feature.\n",
        "        Returns\n",
        "        -------\n",
        "        self\n",
        "        \"\"\"\n",
        "\n",
        "        if self.encoding not in ['onehot', 'onehot-dense', 'ordinal']:\n",
        "            template = (\"encoding should be either 'onehot', 'onehot-dense' \"\n",
        "                        \"or 'ordinal', got %s\")\n",
        "            raise ValueError(template % self.handle_unknown)\n",
        "\n",
        "        if self.handle_unknown not in ['error', 'ignore']:\n",
        "            template = (\"handle_unknown should be either 'error' or \"\n",
        "                        \"'ignore', got %s\")\n",
        "            raise ValueError(template % self.handle_unknown)\n",
        "\n",
        "        if self.encoding == 'ordinal' and self.handle_unknown == 'ignore':\n",
        "            raise ValueError(\"handle_unknown='ignore' is not supported for\"\n",
        "                             \" encoding='ordinal'\")\n",
        "\n",
        "        X = check_array(X, dtype=np.object, accept_sparse='csc', copy=True)\n",
        "        n_samples, n_features = X.shape\n",
        "\n",
        "        self._label_encoders_ = [LabelEncoder() for _ in range(n_features)]\n",
        "\n",
        "        for i in range(n_features):\n",
        "            le = self._label_encoders_[i]\n",
        "            Xi = X[:, i]\n",
        "            if self.categories == 'auto':\n",
        "                le.fit(Xi)\n",
        "            else:\n",
        "                valid_mask = np.in1d(Xi, self.categories[i])\n",
        "                if not np.all(valid_mask):\n",
        "                    if self.handle_unknown == 'error':\n",
        "                        diff = np.unique(Xi[~valid_mask])\n",
        "                        msg = (\"Found unknown categories {0} in column {1}\"\n",
        "                               \" during fit\".format(diff, i))\n",
        "                        raise ValueError(msg)\n",
        "                le.classes_ = np.array(np.sort(self.categories[i]))\n",
        "\n",
        "        self.categories_ = [le.classes_ for le in self._label_encoders_]\n",
        "\n",
        "        return self\n",
        "\n",
        "    def transform(self, X):\n",
        "        \"\"\"Transform X using one-hot encoding.\n",
        "        Parameters\n",
        "        ----------\n",
        "        X : array-like, shape [n_samples, n_features]\n",
        "            The data to encode.\n",
        "        Returns\n",
        "        -------\n",
        "        X_out : sparse matrix or a 2-d array\n",
        "            Transformed input.\n",
        "        \"\"\"\n",
        "        X = check_array(X, accept_sparse='csc', dtype=np.object, copy=True)\n",
        "        n_samples, n_features = X.shape\n",
        "        X_int = np.zeros_like(X, dtype=np.int)\n",
        "        X_mask = np.ones_like(X, dtype=np.bool)\n",
        "\n",
        "        for i in range(n_features):\n",
        "            valid_mask = np.in1d(X[:, i], self.categories_[i])\n",
        "\n",
        "            if not np.all(valid_mask):\n",
        "                if self.handle_unknown == 'error':\n",
        "                    diff = np.unique(X[~valid_mask, i])\n",
        "                    msg = (\"Found unknown categories {0} in column {1}\"\n",
        "                           \" during transform\".format(diff, i))\n",
        "                    raise ValueError(msg)\n",
        "                else:\n",
        "                    # Set the problematic rows to an acceptable value and\n",
        "                    # continue `The rows are marked `X_mask` and will be\n",
        "                    # removed later.\n",
        "                    X_mask[:, i] = valid_mask\n",
        "                    X[:, i][~valid_mask] = self.categories_[i][0]\n",
        "            X_int[:, i] = self._label_encoders_[i].transform(X[:, i])\n",
        "\n",
        "        if self.encoding == 'ordinal':\n",
        "            return X_int.astype(self.dtype, copy=False)\n",
        "\n",
        "        mask = X_mask.ravel()\n",
        "        n_values = [cats.shape[0] for cats in self.categories_]\n",
        "        n_values = np.array([0] + n_values)\n",
        "        indices = np.cumsum(n_values)\n",
        "\n",
        "        column_indices = (X_int + indices[:-1]).ravel()[mask]\n",
        "        row_indices = np.repeat(np.arange(n_samples, dtype=np.int32),\n",
        "                                n_features)[mask]\n",
        "        data = np.ones(n_samples * n_features)[mask]\n",
        "\n",
        "        out = sparse.csc_matrix((data, (row_indices, column_indices)),\n",
        "                                shape=(n_samples, indices[-1]),\n",
        "                                dtype=self.dtype).tocsr()\n",
        "        if self.encoding == 'onehot-dense':\n",
        "            return out.toarray()\n",
        "        else:\n",
        "            return out\n",
        "\n",
        "num_attribs = list(housing_num)\n",
        "cat_attribs = [\"ocean_proximity\"]\n",
        "num_pipeline = Pipeline([\n",
        " ('selector', DataFrameSelector(num_attribs)),\n",
        " ('imputer', SimpleImputer(strategy=\"median\")),\n",
        " ('attribs_adder', CombinedAttributesAdder()),\n",
        " ('std_scaler', StandardScaler()),\n",
        " ])\n",
        "cat_pipeline = Pipeline([\n",
        " ('selector', DataFrameSelector(cat_attribs)),\n",
        " ('one_hot_encoder', OneHotEncoder(sparse=False)),\n",
        " ])\n",
        "full_pipeline = FeatureUnion(transformer_list=[\n",
        " (\"num_pipeline\", num_pipeline),\n",
        " (\"cat_pipeline\", cat_pipeline),\n",
        " ])\n"
      ],
      "execution_count": 0,
      "outputs": []
    },
    {
      "cell_type": "code",
      "metadata": {
        "id": "FrjTpAGEZOIz",
        "colab_type": "code",
        "outputId": "a316c336-6e64-43b9-d0f9-1c4a07616da7",
        "colab": {
          "base_uri": "https://localhost:8080/",
          "height": 34
        }
      },
      "source": [
        "housing_prepared = full_pipeline.fit_transform(housing)\n",
        "housing_prepared\n",
        "housing_prepared.shape"
      ],
      "execution_count": 36,
      "outputs": [
        {
          "output_type": "execute_result",
          "data": {
            "text/plain": [
              "(16512, 16)"
            ]
          },
          "metadata": {
            "tags": []
          },
          "execution_count": 36
        }
      ]
    },
    {
      "cell_type": "code",
      "metadata": {
        "id": "Yh-0CPsx3br4",
        "colab_type": "code",
        "colab": {
          "base_uri": "https://localhost:8080/",
          "height": 34
        },
        "outputId": "5085762e-ac0f-4de7-fa61-3027ba96d3ea"
      },
      "source": [
        "from sklearn.linear_model import LinearRegression\n",
        "lin_reg = LinearRegression()\n",
        "lin_reg.fit(housing_prepared, housing_labels)"
      ],
      "execution_count": 37,
      "outputs": [
        {
          "output_type": "execute_result",
          "data": {
            "text/plain": [
              "LinearRegression(copy_X=True, fit_intercept=True, n_jobs=None, normalize=False)"
            ]
          },
          "metadata": {
            "tags": []
          },
          "execution_count": 37
        }
      ]
    },
    {
      "cell_type": "code",
      "metadata": {
        "id": "U3wm3JFT3sCX",
        "colab_type": "code",
        "colab": {
          "base_uri": "https://localhost:8080/",
          "height": 68
        },
        "outputId": "7112cca4-2e9c-4a6a-cf25-221767f69519"
      },
      "source": [
        ">>> some_data = housing.iloc[:5]\n",
        ">>> some_labels = housing_labels.iloc[:5]\n",
        ">>> some_data_prepared = full_pipeline.transform(some_data)\n",
        ">>> print(\"Predictions:\\t\", lin_reg.predict(some_data_prepared))\n",
        "\n",
        ">>> print(\"Labels:\\t\\t\", list(some_labels))\n"
      ],
      "execution_count": 38,
      "outputs": [
        {
          "output_type": "stream",
          "text": [
            "Predictions:\t [210644.60459286 317768.80697211 210956.43331178  59218.98886849\n",
            " 189747.55849879]\n",
            "Labels:\t\t [286600.0, 340600.0, 196900.0, 46300.0, 254500.0]\n"
          ],
          "name": "stdout"
        }
      ]
    },
    {
      "cell_type": "code",
      "metadata": {
        "id": "_pWCXypF34s4",
        "colab_type": "code",
        "colab": {
          "base_uri": "https://localhost:8080/",
          "height": 34
        },
        "outputId": "7af97e23-dddf-4e68-96a6-632aa131ec32"
      },
      "source": [
        "# Now lets implent the loss function\n",
        ">>> from sklearn.metrics import mean_squared_error\n",
        ">>> housing_predictions = lin_reg.predict(housing_prepared)\n",
        ">>> lin_mse = mean_squared_error(housing_labels, housing_predictions)\n",
        ">>> lin_rmse = np.sqrt(lin_mse)\n",
        ">>> lin_rmse"
      ],
      "execution_count": 39,
      "outputs": [
        {
          "output_type": "execute_result",
          "data": {
            "text/plain": [
              "68628.19819848923"
            ]
          },
          "metadata": {
            "tags": []
          },
          "execution_count": 39
        }
      ]
    },
    {
      "cell_type": "markdown",
      "metadata": {
        "id": "zis_jXyw4gE0",
        "colab_type": "text"
      },
      "source": [
        "As we can see the model clearly underfits. It occured because the training data was too small(it could not learn from the number of features) or the optimizer wasn't powerful. In the next cell let us try a more powerful algorithm\n"
      ]
    },
    {
      "cell_type": "code",
      "metadata": {
        "id": "tunfMM7o4O_q",
        "colab_type": "code",
        "colab": {
          "base_uri": "https://localhost:8080/",
          "height": 34
        },
        "outputId": "530e101d-b1ec-4279-a264-9a9e4276f570"
      },
      "source": [
        "from sklearn.tree import DecisionTreeRegressor\n",
        "tree_reg = DecisionTreeRegressor()\n",
        "tree_reg.fit(housing_prepared, housing_labels)\n",
        "\n",
        "housing_predictions = tree_reg.predict(housing_prepared)\n",
        "tree_mse = mean_squared_error(housing_labels, housing_predictions)\n",
        "tree_rmse = np.sqrt(tree_mse)\n",
        "tree_rmse\n"
      ],
      "execution_count": 40,
      "outputs": [
        {
          "output_type": "execute_result",
          "data": {
            "text/plain": [
              "0.0"
            ]
          },
          "metadata": {
            "tags": []
          },
          "execution_count": 40
        }
      ]
    },
    {
      "cell_type": "markdown",
      "metadata": {
        "id": "e1SFMHU55vTs",
        "colab_type": "text"
      },
      "source": [
        "Now the model clearly overfits. Let try something different. Let us try cross validation.\n"
      ]
    },
    {
      "cell_type": "code",
      "metadata": {
        "id": "rowIwUkf5eqk",
        "colab_type": "code",
        "colab": {}
      },
      "source": [
        "from sklearn.model_selection import cross_val_score\n",
        "scores = cross_val_score(tree_reg, housing_prepared, housing_labels,\n",
        " scoring=\"neg_mean_squared_error\", cv=10)\n",
        "rmse_scores = np.sqrt(-scores)"
      ],
      "execution_count": 0,
      "outputs": []
    },
    {
      "cell_type": "code",
      "metadata": {
        "id": "mghZZcuR6dmH",
        "colab_type": "code",
        "colab": {
          "base_uri": "https://localhost:8080/",
          "height": 102
        },
        "outputId": "901eaef1-1959-4847-9ea3-bb0f0eda924a"
      },
      "source": [
        ">>> def display_scores(scores):\n",
        "     print(\"Scores:\", scores)\n",
        "     print(\"Mean:\", scores.mean())\n",
        "     print(\"Standard deviation:\", scores.std())\n",
        "\n",
        ">>> display_scores(rmse_scores)"
      ],
      "execution_count": 42,
      "outputs": [
        {
          "output_type": "stream",
          "text": [
            "Scores: [68242.93426543 67765.60199574 71302.64775095 68874.80374089\n",
            " 72557.91190614 75010.00106737 69006.81693719 70796.60461658\n",
            " 76528.09300789 70107.15369401]\n",
            "Mean: 71019.25689821821\n",
            "Standard deviation: 2766.684328502989\n"
          ],
          "name": "stdout"
        }
      ]
    },
    {
      "cell_type": "code",
      "metadata": {
        "id": "2jVEyDJ_61kM",
        "colab_type": "code",
        "colab": {
          "base_uri": "https://localhost:8080/",
          "height": 102
        },
        "outputId": "5fc4399a-4f2c-45e4-e6d0-1e5d698d9a16"
      },
      "source": [
        ">>> lin_scores = cross_val_score(lin_reg, housing_prepared, housing_labels,\n",
        "scoring=\"neg_mean_squared_error\", cv=10)\n",
        "\n",
        ">>> lin_rmse_scores = np.sqrt(-lin_scores)\n",
        ">>> display_scores(lin_rmse_scores)\n"
      ],
      "execution_count": 43,
      "outputs": [
        {
          "output_type": "stream",
          "text": [
            "Scores: [66782.73843989 66960.118071   70347.95244419 74739.57052552\n",
            " 68031.13388938 71193.84183426 64969.63056405 68281.61137997\n",
            " 71552.91566558 67665.10082067]\n",
            "Mean: 69052.46136345083\n",
            "Standard deviation: 2731.674001798344\n"
          ],
          "name": "stdout"
        }
      ]
    },
    {
      "cell_type": "code",
      "metadata": {
        "id": "i7aP0XW97fyk",
        "colab_type": "code",
        "colab": {
          "base_uri": "https://localhost:8080/",
          "height": 136
        },
        "outputId": "802e4403-6c9a-4345-cee5-8a47c6883b7c"
      },
      "source": [
        ">>> from sklearn.ensemble import RandomForestRegressor\n",
        ">>> forest_reg = RandomForestRegressor()\n",
        ">>> forest_reg.fit(housing_prepared, housing_labels)\n"
      ],
      "execution_count": 47,
      "outputs": [
        {
          "output_type": "execute_result",
          "data": {
            "text/plain": [
              "RandomForestRegressor(bootstrap=True, ccp_alpha=0.0, criterion='mse',\n",
              "                      max_depth=None, max_features='auto', max_leaf_nodes=None,\n",
              "                      max_samples=None, min_impurity_decrease=0.0,\n",
              "                      min_impurity_split=None, min_samples_leaf=1,\n",
              "                      min_samples_split=2, min_weight_fraction_leaf=0.0,\n",
              "                      n_estimators=100, n_jobs=None, oob_score=False,\n",
              "                      random_state=None, verbose=0, warm_start=False)"
            ]
          },
          "metadata": {
            "tags": []
          },
          "execution_count": 47
        }
      ]
    },
    {
      "cell_type": "code",
      "metadata": {
        "id": "BNHY-liy70sg",
        "colab_type": "code",
        "colab": {
          "base_uri": "https://localhost:8080/",
          "height": 34
        },
        "outputId": "3b369294-eb69-4cb0-eb34-723c7e52f604"
      },
      "source": [
        "housing_predictions = forest_reg.predict(housing_prepared)\n",
        "forest_mse = mean_squared_error(housing_labels, housing_predictions)\n",
        "forest_rmse = np.sqrt(forest_mse)\n",
        "forest_rmse"
      ],
      "execution_count": 48,
      "outputs": [
        {
          "output_type": "execute_result",
          "data": {
            "text/plain": [
              "18703.445386601175"
            ]
          },
          "metadata": {
            "tags": []
          },
          "execution_count": 48
        }
      ]
    },
    {
      "cell_type": "code",
      "metadata": {
        "id": "xPnZWhxZBilI",
        "colab_type": "code",
        "colab": {
          "base_uri": "https://localhost:8080/",
          "height": 102
        },
        "outputId": "9e6380c9-b9d5-426b-86a5-93e37655da98"
      },
      "source": [
        "from sklearn.model_selection import cross_val_score\n",
        "\n",
        "forest_scores = cross_val_score(forest_reg, housing_prepared, housing_labels,\n",
        "                                scoring=\"neg_mean_squared_error\", cv=10)\n",
        "forest_rmse_scores = np.sqrt(-forest_scores)\n",
        "display_scores(forest_rmse_scores)"
      ],
      "execution_count": 49,
      "outputs": [
        {
          "output_type": "stream",
          "text": [
            "Scores: [49531.45025917 47609.52097313 49658.81062503 52376.92780672\n",
            " 49781.89904688 53140.68070958 49070.70185361 47554.06655419\n",
            " 52895.12102865 50233.9645545 ]\n",
            "Mean: 50185.31434114602\n",
            "Standard deviation: 1911.8264766953946\n"
          ],
          "name": "stdout"
        }
      ]
    },
    {
      "cell_type": "code",
      "metadata": {
        "id": "zJmKrODFBocs",
        "colab_type": "code",
        "colab": {
          "base_uri": "https://localhost:8080/",
          "height": 170
        },
        "outputId": "b10cfbd0-203c-45d3-977b-26a00d63f3ed"
      },
      "source": [
        "scores = cross_val_score(lin_reg, housing_prepared, housing_labels, scoring=\"neg_mean_squared_error\", cv=10)\n",
        "pd.Series(np.sqrt(-scores)).describe()"
      ],
      "execution_count": 50,
      "outputs": [
        {
          "output_type": "execute_result",
          "data": {
            "text/plain": [
              "count       10.000000\n",
              "mean     69052.461363\n",
              "std       2879.437224\n",
              "min      64969.630564\n",
              "25%      67136.363758\n",
              "50%      68156.372635\n",
              "75%      70982.369487\n",
              "max      74739.570526\n",
              "dtype: float64"
            ]
          },
          "metadata": {
            "tags": []
          },
          "execution_count": 50
        }
      ]
    },
    {
      "cell_type": "code",
      "metadata": {
        "id": "_QtWsPaCCn28",
        "colab_type": "code",
        "colab": {
          "base_uri": "https://localhost:8080/",
          "height": 34
        },
        "outputId": "263b4de0-fcc1-4534-de8a-19deeba3fb92"
      },
      "source": [
        "from sklearn.svm import SVR\n",
        "\n",
        "svm_reg = SVR(kernel=\"linear\")\n",
        "svm_reg.fit(housing_prepared, housing_labels)\n",
        "housing_predictions = svm_reg.predict(housing_prepared)\n",
        "svm_mse = mean_squared_error(housing_labels, housing_predictions)\n",
        "svm_rmse = np.sqrt(svm_mse)\n",
        "svm_rmse"
      ],
      "execution_count": 51,
      "outputs": [
        {
          "output_type": "execute_result",
          "data": {
            "text/plain": [
              "111094.6308539982"
            ]
          },
          "metadata": {
            "tags": []
          },
          "execution_count": 51
        }
      ]
    },
    {
      "cell_type": "code",
      "metadata": {
        "id": "yLqJujA_CsZq",
        "colab_type": "code",
        "colab": {
          "base_uri": "https://localhost:8080/",
          "height": 374
        },
        "outputId": "bdb8b214-ec84-43ee-e8ee-1c156be6e6b0"
      },
      "source": [
        "from sklearn.model_selection import GridSearchCV\n",
        "\n",
        "param_grid = [\n",
        "    # try 12 (3×4) combinations of hyperparameters\n",
        "    {'n_estimators': [3, 10, 30], 'max_features': [2, 4, 6, 8]},\n",
        "    # then try 6 (2×3) combinations with bootstrap set as False\n",
        "    {'bootstrap': [False], 'n_estimators': [3, 10], 'max_features': [2, 3, 4]},\n",
        "  ]\n",
        "\n",
        "forest_reg = RandomForestRegressor(random_state=42)\n",
        "# train across 5 folds, that's a total of (12+6)*5=90 rounds of training \n",
        "grid_search = GridSearchCV(forest_reg, param_grid, cv=5,\n",
        "                           scoring='neg_mean_squared_error', return_train_score=True)\n",
        "grid_search.fit(housing_prepared, housing_labels)"
      ],
      "execution_count": 52,
      "outputs": [
        {
          "output_type": "execute_result",
          "data": {
            "text/plain": [
              "GridSearchCV(cv=5, error_score=nan,\n",
              "             estimator=RandomForestRegressor(bootstrap=True, ccp_alpha=0.0,\n",
              "                                             criterion='mse', max_depth=None,\n",
              "                                             max_features='auto',\n",
              "                                             max_leaf_nodes=None,\n",
              "                                             max_samples=None,\n",
              "                                             min_impurity_decrease=0.0,\n",
              "                                             min_impurity_split=None,\n",
              "                                             min_samples_leaf=1,\n",
              "                                             min_samples_split=2,\n",
              "                                             min_weight_fraction_leaf=0.0,\n",
              "                                             n_estimators=100, n_jobs=None,\n",
              "                                             oob_score=False, random_state=42,\n",
              "                                             verbose=0, warm_start=False),\n",
              "             iid='deprecated', n_jobs=None,\n",
              "             param_grid=[{'max_features': [2, 4, 6, 8],\n",
              "                          'n_estimators': [3, 10, 30]},\n",
              "                         {'bootstrap': [False], 'max_features': [2, 3, 4],\n",
              "                          'n_estimators': [3, 10]}],\n",
              "             pre_dispatch='2*n_jobs', refit=True, return_train_score=True,\n",
              "             scoring='neg_mean_squared_error', verbose=0)"
            ]
          },
          "metadata": {
            "tags": []
          },
          "execution_count": 52
        }
      ]
    },
    {
      "cell_type": "code",
      "metadata": {
        "id": "4uCO7ihRDDO6",
        "colab_type": "code",
        "colab": {
          "base_uri": "https://localhost:8080/",
          "height": 34
        },
        "outputId": "4ca95b57-d5af-484e-8b70-03ec1a51997b"
      },
      "source": [
        "grid_search.best_params_"
      ],
      "execution_count": 53,
      "outputs": [
        {
          "output_type": "execute_result",
          "data": {
            "text/plain": [
              "{'max_features': 8, 'n_estimators': 30}"
            ]
          },
          "metadata": {
            "tags": []
          },
          "execution_count": 53
        }
      ]
    },
    {
      "cell_type": "code",
      "metadata": {
        "id": "LnJQoHFrDpof",
        "colab_type": "code",
        "colab": {
          "base_uri": "https://localhost:8080/",
          "height": 323
        },
        "outputId": "366ae1a9-5103-4053-d358-94f4d4d6e7cd"
      },
      "source": [
        "cvres = grid_search.cv_results_\n",
        "for mean_score, params in zip(cvres[\"mean_test_score\"], cvres[\"params\"]):\n",
        "    print(np.sqrt(-mean_score), params)"
      ],
      "execution_count": 54,
      "outputs": [
        {
          "output_type": "stream",
          "text": [
            "63669.11631261028 {'max_features': 2, 'n_estimators': 3}\n",
            "55627.099719926795 {'max_features': 2, 'n_estimators': 10}\n",
            "53384.57275149205 {'max_features': 2, 'n_estimators': 30}\n",
            "60965.950449450494 {'max_features': 4, 'n_estimators': 3}\n",
            "52741.04704299915 {'max_features': 4, 'n_estimators': 10}\n",
            "50377.40461678399 {'max_features': 4, 'n_estimators': 30}\n",
            "58663.93866579625 {'max_features': 6, 'n_estimators': 3}\n",
            "52006.19873526564 {'max_features': 6, 'n_estimators': 10}\n",
            "50146.51167415009 {'max_features': 6, 'n_estimators': 30}\n",
            "57869.25276169646 {'max_features': 8, 'n_estimators': 3}\n",
            "51711.127883959234 {'max_features': 8, 'n_estimators': 10}\n",
            "49682.273345071546 {'max_features': 8, 'n_estimators': 30}\n",
            "62895.06951262424 {'bootstrap': False, 'max_features': 2, 'n_estimators': 3}\n",
            "54658.176157539405 {'bootstrap': False, 'max_features': 2, 'n_estimators': 10}\n",
            "59470.40652318466 {'bootstrap': False, 'max_features': 3, 'n_estimators': 3}\n",
            "52724.9822587892 {'bootstrap': False, 'max_features': 3, 'n_estimators': 10}\n",
            "57490.5691951261 {'bootstrap': False, 'max_features': 4, 'n_estimators': 3}\n",
            "51009.495668875716 {'bootstrap': False, 'max_features': 4, 'n_estimators': 10}\n"
          ],
          "name": "stdout"
        }
      ]
    },
    {
      "cell_type": "code",
      "metadata": {
        "id": "DaMqS3viDt9Q",
        "colab_type": "code",
        "colab": {
          "base_uri": "https://localhost:8080/",
          "height": 1000
        },
        "outputId": "e313ee40-c46d-40f2-97bc-810d5314d513"
      },
      "source": [
        "pd.DataFrame(grid_search.cv_results_)"
      ],
      "execution_count": 55,
      "outputs": [
        {
          "output_type": "execute_result",
          "data": {
            "text/html": [
              "<div>\n",
              "<style scoped>\n",
              "    .dataframe tbody tr th:only-of-type {\n",
              "        vertical-align: middle;\n",
              "    }\n",
              "\n",
              "    .dataframe tbody tr th {\n",
              "        vertical-align: top;\n",
              "    }\n",
              "\n",
              "    .dataframe thead th {\n",
              "        text-align: right;\n",
              "    }\n",
              "</style>\n",
              "<table border=\"1\" class=\"dataframe\">\n",
              "  <thead>\n",
              "    <tr style=\"text-align: right;\">\n",
              "      <th></th>\n",
              "      <th>mean_fit_time</th>\n",
              "      <th>std_fit_time</th>\n",
              "      <th>mean_score_time</th>\n",
              "      <th>std_score_time</th>\n",
              "      <th>param_max_features</th>\n",
              "      <th>param_n_estimators</th>\n",
              "      <th>param_bootstrap</th>\n",
              "      <th>params</th>\n",
              "      <th>split0_test_score</th>\n",
              "      <th>split1_test_score</th>\n",
              "      <th>split2_test_score</th>\n",
              "      <th>split3_test_score</th>\n",
              "      <th>split4_test_score</th>\n",
              "      <th>mean_test_score</th>\n",
              "      <th>std_test_score</th>\n",
              "      <th>rank_test_score</th>\n",
              "      <th>split0_train_score</th>\n",
              "      <th>split1_train_score</th>\n",
              "      <th>split2_train_score</th>\n",
              "      <th>split3_train_score</th>\n",
              "      <th>split4_train_score</th>\n",
              "      <th>mean_train_score</th>\n",
              "      <th>std_train_score</th>\n",
              "    </tr>\n",
              "  </thead>\n",
              "  <tbody>\n",
              "    <tr>\n",
              "      <th>0</th>\n",
              "      <td>0.069667</td>\n",
              "      <td>0.003471</td>\n",
              "      <td>0.003393</td>\n",
              "      <td>0.000196</td>\n",
              "      <td>2</td>\n",
              "      <td>3</td>\n",
              "      <td>NaN</td>\n",
              "      <td>{'max_features': 2, 'n_estimators': 3}</td>\n",
              "      <td>-3.837622e+09</td>\n",
              "      <td>-4.147108e+09</td>\n",
              "      <td>-4.196408e+09</td>\n",
              "      <td>-3.903319e+09</td>\n",
              "      <td>-4.184325e+09</td>\n",
              "      <td>-4.053756e+09</td>\n",
              "      <td>1.519591e+08</td>\n",
              "      <td>18</td>\n",
              "      <td>-1.064113e+09</td>\n",
              "      <td>-1.105142e+09</td>\n",
              "      <td>-1.116550e+09</td>\n",
              "      <td>-1.112342e+09</td>\n",
              "      <td>-1.129650e+09</td>\n",
              "      <td>-1.105559e+09</td>\n",
              "      <td>2.220402e+07</td>\n",
              "    </tr>\n",
              "    <tr>\n",
              "      <th>1</th>\n",
              "      <td>0.229182</td>\n",
              "      <td>0.006307</td>\n",
              "      <td>0.010702</td>\n",
              "      <td>0.000362</td>\n",
              "      <td>2</td>\n",
              "      <td>10</td>\n",
              "      <td>NaN</td>\n",
              "      <td>{'max_features': 2, 'n_estimators': 10}</td>\n",
              "      <td>-3.047771e+09</td>\n",
              "      <td>-3.254861e+09</td>\n",
              "      <td>-3.130196e+09</td>\n",
              "      <td>-2.865188e+09</td>\n",
              "      <td>-3.173856e+09</td>\n",
              "      <td>-3.094374e+09</td>\n",
              "      <td>1.327062e+08</td>\n",
              "      <td>11</td>\n",
              "      <td>-5.927175e+08</td>\n",
              "      <td>-5.870952e+08</td>\n",
              "      <td>-5.776964e+08</td>\n",
              "      <td>-5.716332e+08</td>\n",
              "      <td>-5.802501e+08</td>\n",
              "      <td>-5.818785e+08</td>\n",
              "      <td>7.345821e+06</td>\n",
              "    </tr>\n",
              "    <tr>\n",
              "      <th>2</th>\n",
              "      <td>0.693250</td>\n",
              "      <td>0.006540</td>\n",
              "      <td>0.033450</td>\n",
              "      <td>0.000779</td>\n",
              "      <td>2</td>\n",
              "      <td>30</td>\n",
              "      <td>NaN</td>\n",
              "      <td>{'max_features': 2, 'n_estimators': 30}</td>\n",
              "      <td>-2.689185e+09</td>\n",
              "      <td>-3.021086e+09</td>\n",
              "      <td>-2.948330e+09</td>\n",
              "      <td>-2.619995e+09</td>\n",
              "      <td>-2.970968e+09</td>\n",
              "      <td>-2.849913e+09</td>\n",
              "      <td>1.626875e+08</td>\n",
              "      <td>9</td>\n",
              "      <td>-4.381089e+08</td>\n",
              "      <td>-4.391272e+08</td>\n",
              "      <td>-4.371702e+08</td>\n",
              "      <td>-4.376955e+08</td>\n",
              "      <td>-4.452654e+08</td>\n",
              "      <td>-4.394734e+08</td>\n",
              "      <td>2.966320e+06</td>\n",
              "    </tr>\n",
              "    <tr>\n",
              "      <th>3</th>\n",
              "      <td>0.114062</td>\n",
              "      <td>0.001752</td>\n",
              "      <td>0.003678</td>\n",
              "      <td>0.000296</td>\n",
              "      <td>4</td>\n",
              "      <td>3</td>\n",
              "      <td>NaN</td>\n",
              "      <td>{'max_features': 4, 'n_estimators': 3}</td>\n",
              "      <td>-3.730181e+09</td>\n",
              "      <td>-3.786886e+09</td>\n",
              "      <td>-3.734515e+09</td>\n",
              "      <td>-3.418747e+09</td>\n",
              "      <td>-3.913907e+09</td>\n",
              "      <td>-3.716847e+09</td>\n",
              "      <td>1.631510e+08</td>\n",
              "      <td>16</td>\n",
              "      <td>-9.865163e+08</td>\n",
              "      <td>-1.012565e+09</td>\n",
              "      <td>-9.169425e+08</td>\n",
              "      <td>-1.037400e+09</td>\n",
              "      <td>-9.707739e+08</td>\n",
              "      <td>-9.848396e+08</td>\n",
              "      <td>4.084607e+07</td>\n",
              "    </tr>\n",
              "    <tr>\n",
              "      <th>4</th>\n",
              "      <td>0.369636</td>\n",
              "      <td>0.004381</td>\n",
              "      <td>0.010922</td>\n",
              "      <td>0.000313</td>\n",
              "      <td>4</td>\n",
              "      <td>10</td>\n",
              "      <td>NaN</td>\n",
              "      <td>{'max_features': 4, 'n_estimators': 10}</td>\n",
              "      <td>-2.666283e+09</td>\n",
              "      <td>-2.784511e+09</td>\n",
              "      <td>-2.892276e+09</td>\n",
              "      <td>-2.616813e+09</td>\n",
              "      <td>-2.948207e+09</td>\n",
              "      <td>-2.781618e+09</td>\n",
              "      <td>1.268607e+08</td>\n",
              "      <td>8</td>\n",
              "      <td>-5.097115e+08</td>\n",
              "      <td>-5.162820e+08</td>\n",
              "      <td>-4.962893e+08</td>\n",
              "      <td>-5.436192e+08</td>\n",
              "      <td>-5.160297e+08</td>\n",
              "      <td>-5.163863e+08</td>\n",
              "      <td>1.542862e+07</td>\n",
              "    </tr>\n",
              "    <tr>\n",
              "      <th>5</th>\n",
              "      <td>1.103209</td>\n",
              "      <td>0.018818</td>\n",
              "      <td>0.032694</td>\n",
              "      <td>0.000419</td>\n",
              "      <td>4</td>\n",
              "      <td>30</td>\n",
              "      <td>NaN</td>\n",
              "      <td>{'max_features': 4, 'n_estimators': 30}</td>\n",
              "      <td>-2.387153e+09</td>\n",
              "      <td>-2.588448e+09</td>\n",
              "      <td>-2.666426e+09</td>\n",
              "      <td>-2.398071e+09</td>\n",
              "      <td>-2.649316e+09</td>\n",
              "      <td>-2.537883e+09</td>\n",
              "      <td>1.214614e+08</td>\n",
              "      <td>3</td>\n",
              "      <td>-3.838835e+08</td>\n",
              "      <td>-3.880268e+08</td>\n",
              "      <td>-3.790867e+08</td>\n",
              "      <td>-4.040957e+08</td>\n",
              "      <td>-3.845520e+08</td>\n",
              "      <td>-3.879289e+08</td>\n",
              "      <td>8.571233e+06</td>\n",
              "    </tr>\n",
              "    <tr>\n",
              "      <th>6</th>\n",
              "      <td>0.149413</td>\n",
              "      <td>0.002967</td>\n",
              "      <td>0.003833</td>\n",
              "      <td>0.000212</td>\n",
              "      <td>6</td>\n",
              "      <td>3</td>\n",
              "      <td>NaN</td>\n",
              "      <td>{'max_features': 6, 'n_estimators': 3}</td>\n",
              "      <td>-3.119657e+09</td>\n",
              "      <td>-3.586319e+09</td>\n",
              "      <td>-3.592772e+09</td>\n",
              "      <td>-3.328934e+09</td>\n",
              "      <td>-3.579607e+09</td>\n",
              "      <td>-3.441458e+09</td>\n",
              "      <td>1.893056e+08</td>\n",
              "      <td>14</td>\n",
              "      <td>-9.245343e+08</td>\n",
              "      <td>-8.886939e+08</td>\n",
              "      <td>-9.353135e+08</td>\n",
              "      <td>-9.009801e+08</td>\n",
              "      <td>-8.624664e+08</td>\n",
              "      <td>-9.023976e+08</td>\n",
              "      <td>2.591445e+07</td>\n",
              "    </tr>\n",
              "    <tr>\n",
              "      <th>7</th>\n",
              "      <td>0.505327</td>\n",
              "      <td>0.003775</td>\n",
              "      <td>0.011277</td>\n",
              "      <td>0.000183</td>\n",
              "      <td>6</td>\n",
              "      <td>10</td>\n",
              "      <td>NaN</td>\n",
              "      <td>{'max_features': 6, 'n_estimators': 10}</td>\n",
              "      <td>-2.549663e+09</td>\n",
              "      <td>-2.782039e+09</td>\n",
              "      <td>-2.762720e+09</td>\n",
              "      <td>-2.521134e+09</td>\n",
              "      <td>-2.907667e+09</td>\n",
              "      <td>-2.704645e+09</td>\n",
              "      <td>1.471569e+08</td>\n",
              "      <td>6</td>\n",
              "      <td>-4.980344e+08</td>\n",
              "      <td>-5.045869e+08</td>\n",
              "      <td>-4.994664e+08</td>\n",
              "      <td>-4.990325e+08</td>\n",
              "      <td>-5.055542e+08</td>\n",
              "      <td>-5.013349e+08</td>\n",
              "      <td>3.100456e+06</td>\n",
              "    </tr>\n",
              "    <tr>\n",
              "      <th>8</th>\n",
              "      <td>1.556358</td>\n",
              "      <td>0.014416</td>\n",
              "      <td>0.033131</td>\n",
              "      <td>0.000588</td>\n",
              "      <td>6</td>\n",
              "      <td>30</td>\n",
              "      <td>NaN</td>\n",
              "      <td>{'max_features': 6, 'n_estimators': 30}</td>\n",
              "      <td>-2.370010e+09</td>\n",
              "      <td>-2.583638e+09</td>\n",
              "      <td>-2.607703e+09</td>\n",
              "      <td>-2.350953e+09</td>\n",
              "      <td>-2.661059e+09</td>\n",
              "      <td>-2.514673e+09</td>\n",
              "      <td>1.285080e+08</td>\n",
              "      <td>2</td>\n",
              "      <td>-3.838538e+08</td>\n",
              "      <td>-3.804711e+08</td>\n",
              "      <td>-3.805218e+08</td>\n",
              "      <td>-3.856095e+08</td>\n",
              "      <td>-3.901917e+08</td>\n",
              "      <td>-3.841296e+08</td>\n",
              "      <td>3.617057e+06</td>\n",
              "    </tr>\n",
              "    <tr>\n",
              "      <th>9</th>\n",
              "      <td>0.195104</td>\n",
              "      <td>0.003020</td>\n",
              "      <td>0.003789</td>\n",
              "      <td>0.000109</td>\n",
              "      <td>8</td>\n",
              "      <td>3</td>\n",
              "      <td>NaN</td>\n",
              "      <td>{'max_features': 8, 'n_estimators': 3}</td>\n",
              "      <td>-3.353504e+09</td>\n",
              "      <td>-3.348552e+09</td>\n",
              "      <td>-3.402843e+09</td>\n",
              "      <td>-3.129307e+09</td>\n",
              "      <td>-3.510047e+09</td>\n",
              "      <td>-3.348850e+09</td>\n",
              "      <td>1.241939e+08</td>\n",
              "      <td>13</td>\n",
              "      <td>-9.228123e+08</td>\n",
              "      <td>-8.553031e+08</td>\n",
              "      <td>-8.603321e+08</td>\n",
              "      <td>-8.881964e+08</td>\n",
              "      <td>-9.151287e+08</td>\n",
              "      <td>-8.883545e+08</td>\n",
              "      <td>2.750227e+07</td>\n",
              "    </tr>\n",
              "    <tr>\n",
              "      <th>10</th>\n",
              "      <td>0.658321</td>\n",
              "      <td>0.010119</td>\n",
              "      <td>0.011379</td>\n",
              "      <td>0.000446</td>\n",
              "      <td>8</td>\n",
              "      <td>10</td>\n",
              "      <td>NaN</td>\n",
              "      <td>{'max_features': 8, 'n_estimators': 10}</td>\n",
              "      <td>-2.571970e+09</td>\n",
              "      <td>-2.718994e+09</td>\n",
              "      <td>-2.842317e+09</td>\n",
              "      <td>-2.460258e+09</td>\n",
              "      <td>-2.776666e+09</td>\n",
              "      <td>-2.674041e+09</td>\n",
              "      <td>1.392777e+08</td>\n",
              "      <td>5</td>\n",
              "      <td>-4.932416e+08</td>\n",
              "      <td>-4.815238e+08</td>\n",
              "      <td>-4.730979e+08</td>\n",
              "      <td>-5.155367e+08</td>\n",
              "      <td>-4.985555e+08</td>\n",
              "      <td>-4.923911e+08</td>\n",
              "      <td>1.459294e+07</td>\n",
              "    </tr>\n",
              "    <tr>\n",
              "      <th>11</th>\n",
              "      <td>1.973870</td>\n",
              "      <td>0.012464</td>\n",
              "      <td>0.033453</td>\n",
              "      <td>0.000378</td>\n",
              "      <td>8</td>\n",
              "      <td>30</td>\n",
              "      <td>NaN</td>\n",
              "      <td>{'max_features': 8, 'n_estimators': 30}</td>\n",
              "      <td>-2.357390e+09</td>\n",
              "      <td>-2.546640e+09</td>\n",
              "      <td>-2.591972e+09</td>\n",
              "      <td>-2.318617e+09</td>\n",
              "      <td>-2.527022e+09</td>\n",
              "      <td>-2.468328e+09</td>\n",
              "      <td>1.091662e+08</td>\n",
              "      <td>1</td>\n",
              "      <td>-3.841658e+08</td>\n",
              "      <td>-3.744500e+08</td>\n",
              "      <td>-3.773239e+08</td>\n",
              "      <td>-3.882250e+08</td>\n",
              "      <td>-3.810005e+08</td>\n",
              "      <td>-3.810330e+08</td>\n",
              "      <td>4.871017e+06</td>\n",
              "    </tr>\n",
              "    <tr>\n",
              "      <th>12</th>\n",
              "      <td>0.106684</td>\n",
              "      <td>0.003618</td>\n",
              "      <td>0.003743</td>\n",
              "      <td>0.000187</td>\n",
              "      <td>2</td>\n",
              "      <td>3</td>\n",
              "      <td>False</td>\n",
              "      <td>{'bootstrap': False, 'max_features': 2, 'n_est...</td>\n",
              "      <td>-3.785816e+09</td>\n",
              "      <td>-4.166012e+09</td>\n",
              "      <td>-4.061751e+09</td>\n",
              "      <td>-3.675704e+09</td>\n",
              "      <td>-4.089667e+09</td>\n",
              "      <td>-3.955790e+09</td>\n",
              "      <td>1.900964e+08</td>\n",
              "      <td>17</td>\n",
              "      <td>-0.000000e+00</td>\n",
              "      <td>-0.000000e+00</td>\n",
              "      <td>-0.000000e+00</td>\n",
              "      <td>-0.000000e+00</td>\n",
              "      <td>-0.000000e+00</td>\n",
              "      <td>0.000000e+00</td>\n",
              "      <td>0.000000e+00</td>\n",
              "    </tr>\n",
              "    <tr>\n",
              "      <th>13</th>\n",
              "      <td>0.361113</td>\n",
              "      <td>0.006336</td>\n",
              "      <td>0.013411</td>\n",
              "      <td>0.000537</td>\n",
              "      <td>2</td>\n",
              "      <td>10</td>\n",
              "      <td>False</td>\n",
              "      <td>{'bootstrap': False, 'max_features': 2, 'n_est...</td>\n",
              "      <td>-2.810721e+09</td>\n",
              "      <td>-3.107789e+09</td>\n",
              "      <td>-3.131187e+09</td>\n",
              "      <td>-2.788537e+09</td>\n",
              "      <td>-3.099347e+09</td>\n",
              "      <td>-2.987516e+09</td>\n",
              "      <td>1.539234e+08</td>\n",
              "      <td>10</td>\n",
              "      <td>-6.056477e-02</td>\n",
              "      <td>-0.000000e+00</td>\n",
              "      <td>-0.000000e+00</td>\n",
              "      <td>-0.000000e+00</td>\n",
              "      <td>-2.967449e+00</td>\n",
              "      <td>-6.056027e-01</td>\n",
              "      <td>1.181156e+00</td>\n",
              "    </tr>\n",
              "    <tr>\n",
              "      <th>14</th>\n",
              "      <td>0.141458</td>\n",
              "      <td>0.003828</td>\n",
              "      <td>0.004309</td>\n",
              "      <td>0.000253</td>\n",
              "      <td>3</td>\n",
              "      <td>3</td>\n",
              "      <td>False</td>\n",
              "      <td>{'bootstrap': False, 'max_features': 3, 'n_est...</td>\n",
              "      <td>-3.618324e+09</td>\n",
              "      <td>-3.441527e+09</td>\n",
              "      <td>-3.554815e+09</td>\n",
              "      <td>-3.619116e+09</td>\n",
              "      <td>-3.449864e+09</td>\n",
              "      <td>-3.536729e+09</td>\n",
              "      <td>7.795057e+07</td>\n",
              "      <td>15</td>\n",
              "      <td>-0.000000e+00</td>\n",
              "      <td>-0.000000e+00</td>\n",
              "      <td>-0.000000e+00</td>\n",
              "      <td>-0.000000e+00</td>\n",
              "      <td>-6.072840e+01</td>\n",
              "      <td>-1.214568e+01</td>\n",
              "      <td>2.429136e+01</td>\n",
              "    </tr>\n",
              "    <tr>\n",
              "      <th>15</th>\n",
              "      <td>0.467697</td>\n",
              "      <td>0.007396</td>\n",
              "      <td>0.013049</td>\n",
              "      <td>0.000319</td>\n",
              "      <td>3</td>\n",
              "      <td>10</td>\n",
              "      <td>False</td>\n",
              "      <td>{'bootstrap': False, 'max_features': 3, 'n_est...</td>\n",
              "      <td>-2.757999e+09</td>\n",
              "      <td>-2.851737e+09</td>\n",
              "      <td>-2.830927e+09</td>\n",
              "      <td>-2.672765e+09</td>\n",
              "      <td>-2.786190e+09</td>\n",
              "      <td>-2.779924e+09</td>\n",
              "      <td>6.286720e+07</td>\n",
              "      <td>7</td>\n",
              "      <td>-2.089484e+01</td>\n",
              "      <td>-0.000000e+00</td>\n",
              "      <td>-0.000000e+00</td>\n",
              "      <td>-0.000000e+00</td>\n",
              "      <td>-5.465556e+00</td>\n",
              "      <td>-5.272080e+00</td>\n",
              "      <td>8.093117e+00</td>\n",
              "    </tr>\n",
              "    <tr>\n",
              "      <th>16</th>\n",
              "      <td>0.176774</td>\n",
              "      <td>0.000448</td>\n",
              "      <td>0.004111</td>\n",
              "      <td>0.000081</td>\n",
              "      <td>4</td>\n",
              "      <td>3</td>\n",
              "      <td>False</td>\n",
              "      <td>{'bootstrap': False, 'max_features': 4, 'n_est...</td>\n",
              "      <td>-3.134040e+09</td>\n",
              "      <td>-3.559375e+09</td>\n",
              "      <td>-3.440422e+09</td>\n",
              "      <td>-3.053647e+09</td>\n",
              "      <td>-3.338344e+09</td>\n",
              "      <td>-3.305166e+09</td>\n",
              "      <td>1.879165e+08</td>\n",
              "      <td>12</td>\n",
              "      <td>-0.000000e+00</td>\n",
              "      <td>-0.000000e+00</td>\n",
              "      <td>-0.000000e+00</td>\n",
              "      <td>-0.000000e+00</td>\n",
              "      <td>-0.000000e+00</td>\n",
              "      <td>0.000000e+00</td>\n",
              "      <td>0.000000e+00</td>\n",
              "    </tr>\n",
              "    <tr>\n",
              "      <th>17</th>\n",
              "      <td>0.585409</td>\n",
              "      <td>0.006455</td>\n",
              "      <td>0.013162</td>\n",
              "      <td>0.000387</td>\n",
              "      <td>4</td>\n",
              "      <td>10</td>\n",
              "      <td>False</td>\n",
              "      <td>{'bootstrap': False, 'max_features': 4, 'n_est...</td>\n",
              "      <td>-2.525578e+09</td>\n",
              "      <td>-2.710011e+09</td>\n",
              "      <td>-2.609100e+09</td>\n",
              "      <td>-2.439607e+09</td>\n",
              "      <td>-2.725548e+09</td>\n",
              "      <td>-2.601969e+09</td>\n",
              "      <td>1.088048e+08</td>\n",
              "      <td>4</td>\n",
              "      <td>-0.000000e+00</td>\n",
              "      <td>-1.514119e-02</td>\n",
              "      <td>-0.000000e+00</td>\n",
              "      <td>-0.000000e+00</td>\n",
              "      <td>-0.000000e+00</td>\n",
              "      <td>-3.028238e-03</td>\n",
              "      <td>6.056477e-03</td>\n",
              "    </tr>\n",
              "  </tbody>\n",
              "</table>\n",
              "</div>"
            ],
            "text/plain": [
              "    mean_fit_time  std_fit_time  ...  mean_train_score  std_train_score\n",
              "0        0.069667      0.003471  ...     -1.105559e+09     2.220402e+07\n",
              "1        0.229182      0.006307  ...     -5.818785e+08     7.345821e+06\n",
              "2        0.693250      0.006540  ...     -4.394734e+08     2.966320e+06\n",
              "3        0.114062      0.001752  ...     -9.848396e+08     4.084607e+07\n",
              "4        0.369636      0.004381  ...     -5.163863e+08     1.542862e+07\n",
              "5        1.103209      0.018818  ...     -3.879289e+08     8.571233e+06\n",
              "6        0.149413      0.002967  ...     -9.023976e+08     2.591445e+07\n",
              "7        0.505327      0.003775  ...     -5.013349e+08     3.100456e+06\n",
              "8        1.556358      0.014416  ...     -3.841296e+08     3.617057e+06\n",
              "9        0.195104      0.003020  ...     -8.883545e+08     2.750227e+07\n",
              "10       0.658321      0.010119  ...     -4.923911e+08     1.459294e+07\n",
              "11       1.973870      0.012464  ...     -3.810330e+08     4.871017e+06\n",
              "12       0.106684      0.003618  ...      0.000000e+00     0.000000e+00\n",
              "13       0.361113      0.006336  ...     -6.056027e-01     1.181156e+00\n",
              "14       0.141458      0.003828  ...     -1.214568e+01     2.429136e+01\n",
              "15       0.467697      0.007396  ...     -5.272080e+00     8.093117e+00\n",
              "16       0.176774      0.000448  ...      0.000000e+00     0.000000e+00\n",
              "17       0.585409      0.006455  ...     -3.028238e-03     6.056477e-03\n",
              "\n",
              "[18 rows x 23 columns]"
            ]
          },
          "metadata": {
            "tags": []
          },
          "execution_count": 55
        }
      ]
    },
    {
      "cell_type": "code",
      "metadata": {
        "id": "_5ecNODyEaW6",
        "colab_type": "code",
        "colab": {
          "base_uri": "https://localhost:8080/",
          "height": 391
        },
        "outputId": "5f7411dc-0c5d-4827-d86d-303eabef0801"
      },
      "source": [
        "from sklearn.model_selection import RandomizedSearchCV\n",
        "from scipy.stats import randint\n",
        "\n",
        "param_distribs = {\n",
        "        'n_estimators': randint(low=1, high=200),\n",
        "        'max_features': randint(low=1, high=8),\n",
        "    }\n",
        "\n",
        "forest_reg = RandomForestRegressor(random_state=42)\n",
        "rnd_search = RandomizedSearchCV(forest_reg, param_distributions=param_distribs,\n",
        "                                n_iter=10, cv=5, scoring='neg_mean_squared_error', random_state=42)\n",
        "rnd_search.fit(housing_prepared, housing_labels)"
      ],
      "execution_count": 56,
      "outputs": [
        {
          "output_type": "execute_result",
          "data": {
            "text/plain": [
              "RandomizedSearchCV(cv=5, error_score=nan,\n",
              "                   estimator=RandomForestRegressor(bootstrap=True,\n",
              "                                                   ccp_alpha=0.0,\n",
              "                                                   criterion='mse',\n",
              "                                                   max_depth=None,\n",
              "                                                   max_features='auto',\n",
              "                                                   max_leaf_nodes=None,\n",
              "                                                   max_samples=None,\n",
              "                                                   min_impurity_decrease=0.0,\n",
              "                                                   min_impurity_split=None,\n",
              "                                                   min_samples_leaf=1,\n",
              "                                                   min_samples_split=2,\n",
              "                                                   min_weight_fraction_leaf=0.0,\n",
              "                                                   n_estimators=100,\n",
              "                                                   n_jobs=None, oob_score=Fals...\n",
              "                                                   warm_start=False),\n",
              "                   iid='deprecated', n_iter=10, n_jobs=None,\n",
              "                   param_distributions={'max_features': <scipy.stats._distn_infrastructure.rv_frozen object at 0x7fd714ebc940>,\n",
              "                                        'n_estimators': <scipy.stats._distn_infrastructure.rv_frozen object at 0x7fd714ebc470>},\n",
              "                   pre_dispatch='2*n_jobs', random_state=42, refit=True,\n",
              "                   return_train_score=False, scoring='neg_mean_squared_error',\n",
              "                   verbose=0)"
            ]
          },
          "metadata": {
            "tags": []
          },
          "execution_count": 56
        }
      ]
    },
    {
      "cell_type": "code",
      "metadata": {
        "id": "gYoiXAuJEg5R",
        "colab_type": "code",
        "colab": {
          "base_uri": "https://localhost:8080/",
          "height": 187
        },
        "outputId": "f95fab47-1651-4ebc-b137-2c24ebcda3d7"
      },
      "source": [
        "cvres = rnd_search.cv_results_\n",
        "for mean_score, params in zip(cvres[\"mean_test_score\"], cvres[\"params\"]):\n",
        "    print(np.sqrt(-mean_score), params)"
      ],
      "execution_count": 57,
      "outputs": [
        {
          "output_type": "stream",
          "text": [
            "49150.70756927707 {'max_features': 7, 'n_estimators': 180}\n",
            "51389.889203389284 {'max_features': 5, 'n_estimators': 15}\n",
            "50796.155224308866 {'max_features': 3, 'n_estimators': 72}\n",
            "50835.13360315349 {'max_features': 5, 'n_estimators': 21}\n",
            "49280.9449827171 {'max_features': 7, 'n_estimators': 122}\n",
            "50774.90662363929 {'max_features': 3, 'n_estimators': 75}\n",
            "50682.78888164288 {'max_features': 3, 'n_estimators': 88}\n",
            "49608.99608105296 {'max_features': 5, 'n_estimators': 100}\n",
            "50473.61930350219 {'max_features': 3, 'n_estimators': 150}\n",
            "64429.84143294435 {'max_features': 5, 'n_estimators': 2}\n"
          ],
          "name": "stdout"
        }
      ]
    },
    {
      "cell_type": "code",
      "metadata": {
        "id": "qHWY1oryF2EG",
        "colab_type": "code",
        "colab": {
          "base_uri": "https://localhost:8080/",
          "height": 85
        },
        "outputId": "80712303-c136-4c7a-cae5-5fc9b2ee9012"
      },
      "source": [
        "feature_importances = grid_search.best_estimator_.feature_importances_\n",
        "feature_importances"
      ],
      "execution_count": 58,
      "outputs": [
        {
          "output_type": "execute_result",
          "data": {
            "text/plain": [
              "array([7.33442355e-02, 6.29090705e-02, 4.11437985e-02, 1.46726854e-02,\n",
              "       1.41064835e-02, 1.48742809e-02, 1.42575993e-02, 3.66158981e-01,\n",
              "       5.64191792e-02, 1.08792957e-01, 5.33510773e-02, 1.03114883e-02,\n",
              "       1.64780994e-01, 6.02803867e-05, 1.96041560e-03, 2.85647464e-03])"
            ]
          },
          "metadata": {
            "tags": []
          },
          "execution_count": 58
        }
      ]
    },
    {
      "cell_type": "code",
      "metadata": {
        "id": "at2Kff9oF7UL",
        "colab_type": "code",
        "colab": {}
      },
      "source": [
        "final_model = grid_search.best_estimator_\n",
        "\n",
        "X_test = strat_test_set.drop(\"median_house_value\", axis=1)\n",
        "y_test = strat_test_set[\"median_house_value\"].copy()\n",
        "\n",
        "X_test_prepared = full_pipeline.transform(X_test)\n",
        "final_predictions = final_model.predict(X_test_prepared)\n",
        "\n",
        "final_mse = mean_squared_error(y_test, final_predictions)\n",
        "final_rmse = np.sqrt(final_mse)"
      ],
      "execution_count": 0,
      "outputs": []
    },
    {
      "cell_type": "code",
      "metadata": {
        "id": "Ptx9SOT2GCOk",
        "colab_type": "code",
        "colab": {
          "base_uri": "https://localhost:8080/",
          "height": 34
        },
        "outputId": "6797961a-da36-4fda-86da-0261fe80be3f"
      },
      "source": [
        "final_rmse"
      ],
      "execution_count": 61,
      "outputs": [
        {
          "output_type": "execute_result",
          "data": {
            "text/plain": [
              "47730.22690385927"
            ]
          },
          "metadata": {
            "tags": []
          },
          "execution_count": 61
        }
      ]
    },
    {
      "cell_type": "code",
      "metadata": {
        "id": "VYa5N8k1HadZ",
        "colab_type": "code",
        "colab": {}
      },
      "source": [
        "from scipy import stats"
      ],
      "execution_count": 0,
      "outputs": []
    },
    {
      "cell_type": "code",
      "metadata": {
        "id": "uWZ7IdebHfFU",
        "colab_type": "code",
        "colab": {
          "base_uri": "https://localhost:8080/",
          "height": 34
        },
        "outputId": "dc5c0055-a44a-490a-9b65-ac5239f19bb8"
      },
      "source": [
        "confidence = 0.95\n",
        "squared_errors = (final_predictions - y_test) ** 2\n",
        "mean = squared_errors.mean()\n",
        "m = len(squared_errors)\n",
        "\n",
        "np.sqrt(stats.t.interval(confidence, m - 1,\n",
        "                         loc=np.mean(squared_errors),\n",
        "                         scale=stats.sem(squared_errors)))"
      ],
      "execution_count": 63,
      "outputs": [
        {
          "output_type": "execute_result",
          "data": {
            "text/plain": [
              "array([45685.10470776, 49691.25001878])"
            ]
          },
          "metadata": {
            "tags": []
          },
          "execution_count": 63
        }
      ]
    },
    {
      "cell_type": "code",
      "metadata": {
        "id": "8e1ObdeEHj5H",
        "colab_type": "code",
        "colab": {
          "base_uri": "https://localhost:8080/",
          "height": 34
        },
        "outputId": "772eae23-7fcb-4e34-ad9e-b9fe29c84527"
      },
      "source": [
        "tscore = stats.t.ppf((1 + confidence) / 2, df=m - 1)\n",
        "tmargin = tscore * squared_errors.std(ddof=1) / np.sqrt(m)\n",
        "np.sqrt(mean - tmargin), np.sqrt(mean + tmargin)"
      ],
      "execution_count": 64,
      "outputs": [
        {
          "output_type": "execute_result",
          "data": {
            "text/plain": [
              "(45685.10470776, 49691.25001877858)"
            ]
          },
          "metadata": {
            "tags": []
          },
          "execution_count": 64
        }
      ]
    },
    {
      "cell_type": "code",
      "metadata": {
        "id": "OOaMLwUWHoIo",
        "colab_type": "code",
        "colab": {
          "base_uri": "https://localhost:8080/",
          "height": 34
        },
        "outputId": "710e5310-9986-4a49-e4f9-c4b5ac96cd45"
      },
      "source": [
        "zscore = stats.norm.ppf((1 + confidence) / 2)\n",
        "zmargin = zscore * squared_errors.std(ddof=1) / np.sqrt(m)\n",
        "np.sqrt(mean - zmargin), np.sqrt(mean + zmargin)"
      ],
      "execution_count": 65,
      "outputs": [
        {
          "output_type": "execute_result",
          "data": {
            "text/plain": [
              "(45685.717918136455, 49690.68623889413)"
            ]
          },
          "metadata": {
            "tags": []
          },
          "execution_count": 65
        }
      ]
    },
    {
      "cell_type": "code",
      "metadata": {
        "id": "Fj63SlqQHu-G",
        "colab_type": "code",
        "colab": {}
      },
      "source": [
        ""
      ],
      "execution_count": 0,
      "outputs": []
    }
  ]
}